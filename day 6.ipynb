{
 "cells": [
  {
   "cell_type": "code",
   "execution_count": 12,
   "id": "9056ccd1-6116-44aa-b847-3294d6179e15",
   "metadata": {},
   "outputs": [
    {
     "name": "stdout",
     "output_type": "stream",
     "text": [
      "car has--\n",
      " ev 7 120kms 1500cc ap123 45000000 white\n",
      "\n",
      "truck has--\n",
      " 75kgs 3 1200cc ap456 35000000 red\n"
     ]
    }
   ],
   "source": [
    "class vehicle:\n",
    "    def __init__(self,e,r,p,c):\n",
    "        self.engine=e\n",
    "        self.reg=r\n",
    "        self.price=p\n",
    "        self.color=c\n",
    "\n",
    "class car(vehicle):\n",
    "    def __init__(self,t,pas,s,e,r,p,c):\n",
    "        self.type=t\n",
    "        self.passenger=pas\n",
    "        self.speed=s\n",
    "        super().__init__(e,r,p,c)\n",
    "\n",
    "class truck(vehicle):\n",
    "    def __init__(self,a,l,e,r,p,c):\n",
    "        self.axles=a\n",
    "        self.load=l\n",
    "        super().__init__(e,r,p,c)\n",
    "\n",
    "car1=car(\"ev\",7,\"120kms\",\"1500cc\",\"ap123\",45000000,\"white\")\n",
    "truck1=truck(3,\"75kgs\",\"1200cc\",\"ap456\",35000000,\"red\")\n",
    "print(\"car has--\\n\",car1.type,car1.passenger,car1.speed,car1.engine,car1.reg,car1.price,car1.color)\n",
    "print(\"\\ntruck has--\\n\",truck1.load,truck1.axles,truck1.engine,truck1.reg,truck1.price,truck1.color)"
   ]
  },
  {
   "cell_type": "code",
   "execution_count": 18,
   "id": "8230e652-35f1-43bf-acaa-351766bae719",
   "metadata": {},
   "outputs": [
    {
     "name": "stdout",
     "output_type": "stream",
     "text": [
      "developer has : 5 ai 5 yrs 18 nim 7500000\n"
     ]
    }
   ],
   "source": [
    "class employee:\n",
    "    def __init__(self,eid,ename,esal):\n",
    "        self.emid=eid\n",
    "        self.emname=ename\n",
    "        self.emsalary=esal\n",
    "\n",
    "class staff(employee):\n",
    "    def __init__(self,ty,ar,eid,ename,esal):\n",
    "        self.type=ty\n",
    "        self.area=ar\n",
    "        super().__init__(eid,ename,esal)\n",
    "\n",
    "class developer(employee):\n",
    "    def __init__(self,m,t,e,eid,ename,esal):\n",
    "        self.mod=m\n",
    "        self.tech=t\n",
    "        self.exp=e\n",
    "        super().__init__(eid,ename,esal)\n",
    "\n",
    "class manager(employee):\n",
    "    def __init__(self,pro,cl,eid,ename,esal):\n",
    "        self.project=pro\n",
    "        self.client=cl\n",
    "        super().__init__(eid,ename,esal)\n",
    "\n",
    "st=staff(\"a\",\"mothi\",17,\"kin\",450000)\n",
    "d=developer(5,\"ai\",\"5 yrs\",18,\"nim\",7500000)\n",
    "m=manager(4,\"nik\",117,\"vinnu\",5000000)\n",
    "print(\"developer has :\",d.mod,d.tech,d.exp,d.emid,d.emname,d.emsalary)"
   ]
  },
  {
   "cell_type": "markdown",
   "id": "18ac1596-1b5e-4deb-bb96-66e7da0ee2d9",
   "metadata": {},
   "source": [
    "#patterns"
   ]
  },
  {
   "cell_type": "code",
   "execution_count": 29,
   "id": "4cfb6b98-a287-4c27-aff5-bdd8083b3679",
   "metadata": {},
   "outputs": [
    {
     "name": "stdout",
     "output_type": "stream",
     "text": [
      "*\n",
      "**\n",
      "***\n",
      "****\n",
      "*****\n",
      "******\n"
     ]
    }
   ],
   "source": [
    "n=6\n",
    "for i in range(0,n):\n",
    "    for j in range(0,i+1):\n",
    "        print(\"*\",end=\"\")\n",
    "    print()"
   ]
  },
  {
   "cell_type": "code",
   "execution_count": 33,
   "id": "4eec68d6-35b2-4a4c-90cf-25931212e1b9",
   "metadata": {},
   "outputs": [
    {
     "name": "stdout",
     "output_type": "stream",
     "text": [
      "******\n",
      "******\n",
      "******\n",
      "******\n",
      "******\n",
      "******\n"
     ]
    }
   ],
   "source": [
    "n=6\n",
    "for i in range(0,n):\n",
    "    for j in range(0,n):\n",
    "        print(\"*\",end=\"\")\n",
    "    print()\n",
    "    "
   ]
  },
  {
   "cell_type": "code",
   "execution_count": 43,
   "id": "b81fc4db-a2d9-48ea-9a45-10c39c5bc8b7",
   "metadata": {},
   "outputs": [
    {
     "name": "stdout",
     "output_type": "stream",
     "text": [
      "* * * * * * * \n",
      "*           * \n",
      "*           * \n",
      "*           * \n",
      "*           * \n",
      "*           * \n",
      "* * * * * * * \n"
     ]
    }
   ],
   "source": [
    "n=7\n",
    "for i in range(0,n):\n",
    "    for j in range(0,n):\n",
    "         if(i==0 or i==n-1 or j==0 or j==n-1):\n",
    "               print(\"*\",end=\" \")\n",
    "         else:\n",
    "            print(\" \",end=\" \")\n",
    "    print()"
   ]
  },
  {
   "cell_type": "code",
   "execution_count": 2,
   "id": "8c089cb2-2352-4b4e-a4e7-0311e659d8b8",
   "metadata": {},
   "outputs": [
    {
     "ename": "SyntaxError",
     "evalue": "incomplete input (2678533673.py, line 6)",
     "output_type": "error",
     "traceback": [
      "\u001b[1;36m  Cell \u001b[1;32mIn[2], line 6\u001b[1;36m\u001b[0m\n\u001b[1;33m    \u001b[0m\n\u001b[1;37m    ^\u001b[0m\n\u001b[1;31mSyntaxError\u001b[0m\u001b[1;31m:\u001b[0m incomplete input\n"
     ]
    }
   ],
   "source": [
    "n=5\n",
    "for i in range(0,n+1):\n",
    "    for j in range(n+1):\n",
    "        \n",
    "    \n",
    "    "
   ]
  },
  {
   "cell_type": "code",
   "execution_count": null,
   "id": "8d088101-a305-4d36-b498-a8483c0c4bc9",
   "metadata": {},
   "outputs": [],
   "source": []
  }
 ],
 "metadata": {
  "kernelspec": {
   "display_name": "Python 3 (ipykernel)",
   "language": "python",
   "name": "python3"
  },
  "language_info": {
   "codemirror_mode": {
    "name": "ipython",
    "version": 3
   },
   "file_extension": ".py",
   "mimetype": "text/x-python",
   "name": "python",
   "nbconvert_exporter": "python",
   "pygments_lexer": "ipython3",
   "version": "3.12.3"
  }
 },
 "nbformat": 4,
 "nbformat_minor": 5
}
