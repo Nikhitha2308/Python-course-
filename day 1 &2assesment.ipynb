{
 "cells": [
  {
   "cell_type": "code",
   "execution_count": 44,
   "id": "83912cbd-12ce-45f1-873c-d7356ffe60c2",
   "metadata": {},
   "outputs": [
    {
     "name": "stdin",
     "output_type": "stream",
     "text": [
      "Enter first value:  6\n",
      "Enter second value:  6\n"
     ]
    },
    {
     "name": "stdout",
     "output_type": "stream",
     "text": [
      "Press 1 for Addittion \n",
      "Press 2 for Subtraction \n",
      "Press 3 for Multiplication \n",
      "Press 4 for Division \n",
      " Press 5 for power\n"
     ]
    },
    {
     "name": "stdin",
     "output_type": "stream",
     "text": [
      "Enter your option:  1\n"
     ]
    },
    {
     "name": "stdout",
     "output_type": "stream",
     "text": [
      "Addition :  12\n"
     ]
    }
   ],
   "source": [
    "#>Develop a  menu driven code to perform the basic arithmetic operations like addition \n",
    "\n",
    " \n",
    "a = int(input(\"Enter first value: \"))\n",
    "b = int(input(\"Enter second value: \"))\n",
    "print(\"Press 1 for Addittion \\nPress 2 for Subtraction \\nPress 3 for Multiplication \\nPress 4 for Division \\n Press 5 for power\")\n",
    "option = int(input(\"Enter your option: \"))\n",
    "if option == 1:\n",
    "    result = a+b\n",
    "    print(\"Addition : \", result)\n",
    "elif option == 2:\n",
    "    result = a-b\n",
    "    print(\"Subtraction : \",result)\n",
    "elif option == 3:\n",
    "    result = a*b\n",
    "    print(\"Multiplication : \", result)\n",
    "elif option == 4:\n",
    "    result = a/b\n",
    "    print(\"Division : \",result)\n",
    "elif option == 5:\n",
    "    result = a**b\n",
    "    print(\"power : \",result)\n",
    "else:\n",
    "    print(\"Invalid Value\")"
   ]
  },
  {
   "cell_type": "code",
   "execution_count": 10,
   "id": "43cbf2f8-c804-4a32-a70d-7619f9a7c466",
   "metadata": {},
   "outputs": [
    {
     "name": "stdin",
     "output_type": "stream",
     "text": [
      "Enter the word: kinnik\n"
     ]
    },
    {
     "name": "stdout",
     "output_type": "stream",
     "text": [
      "Yes it is palindrome\n"
     ]
    }
   ],
   "source": [
    "#palindrome\n",
    "def Palindrome(s):\n",
    "    return s == s[::-1]\n",
    " \n",
    "s = input(\"Enter the word:\")\n",
    "ans = Palindrome(s)\n",
    " \n",
    "if ans:\n",
    "    print(\"Yes it is palindrome\")\n",
    "else:\n",
    "    print(\"No it is not palindrome\")"
   ]
  },
  {
   "cell_type": "code",
   "execution_count": 8,
   "id": "75bf6641-063b-4b3c-9090-24de1b2e1e27",
   "metadata": {},
   "outputs": [
    {
     "name": "stdin",
     "output_type": "stream",
     "text": [
      "Enter a character:  88\n"
     ]
    },
    {
     "name": "stdout",
     "output_type": "stream",
     "text": [
      "Number\n"
     ]
    }
   ],
   "source": [
    "#program to identify the input character given by the user is lower/upper case,numeric or special character\n",
    "c = input(\"Enter a character: \")\n",
    "\n",
    "if c.islower():\n",
    "    print(\"Lowercase letter\")\n",
    "elif c.isupper():\n",
    "    print(\"Uppercase letter\")\n",
    "elif c.isdigit():\n",
    "    print(\"Number\")\n",
    "else:\n",
    "    print(\"special symbol\")"
   ]
  },
  {
   "cell_type": "code",
   "execution_count": 37,
   "id": "f9124473-80d6-4f68-8185-634d074a9c86",
   "metadata": {},
   "outputs": [
    {
     "name": "stdin",
     "output_type": "stream",
     "text": [
      "Enter the number: 4\n"
     ]
    },
    {
     "name": "stdout",
     "output_type": "stream",
     "text": [
      "4 is not a prime number\n"
     ]
    }
   ],
   "source": [
    "#Write a program for prime numbers. \n",
    "num = int(input(\"Enter the number:\"))\n",
    "if num > 1:\n",
    "    for i in range(2, (num//2)+1):\n",
    "\n",
    "        if (num % i) == 0:\n",
    "            print(num, \"is not a prime number\")\n",
    "            break\n",
    "    else:\n",
    "        print(num, \"is a prime number\")\n",
    "else:\n",
    "    print(num, \"is not a prime number\")"
   ]
  },
  {
   "cell_type": "code",
   "execution_count": 52,
   "id": "95496b61-2498-4529-a717-58e32d8db840",
   "metadata": {},
   "outputs": [],
   "source": [
    "#Write a program to reverse a digits of number\n",
    "def reverse_number(n):\n",
    "    reversed_n = 0\n",
    "    while n != 0:\n",
    "        digit = n % 10\n",
    "        reversed_n = reversed_n * 10 + digit\n",
    "        n = n // 10\n",
    "    return reversed_n\n",
    "\n"
   ]
  },
  {
   "cell_type": "code",
   "execution_count": 40,
   "id": "445d8812-90f0-42e8-b52a-c2ca919950fc",
   "metadata": {},
   "outputs": [
    {
     "name": "stdin",
     "output_type": "stream",
     "text": [
      "Enter a number:  4\n"
     ]
    },
    {
     "name": "stdout",
     "output_type": "stream",
     "text": [
      "The factorial of 4 is 24\n"
     ]
    }
   ],
   "source": [
    "#factorial\n",
    "num = int(input(\"Enter a number: \"))    \n",
    "factorial = 1    \n",
    "if num < 0:    \n",
    "   print(\" enter only +ve numbers\") \n",
    "elif num == 0:    \n",
    "   print(\"The factorial of 0 is 1\")    \n",
    "else:    \n",
    "   for i in range(1,num + 1):    \n",
    "       factorial = factorial*i    \n",
    "   print(\"The factorial of\",num,\"is\",factorial)"
   ]
  },
  {
   "cell_type": "code",
   "execution_count": 57,
   "id": "1eabee39-a51c-409e-8615-5792943548a3",
   "metadata": {},
   "outputs": [
    {
     "name": "stdout",
     "output_type": "stream",
     "text": [
      "3\n",
      "7\n"
     ]
    }
   ],
   "source": [
    "#Write a Python program to find the sum of all elements in a list and handle the case where the list contains non-numeric values.\n",
    "list = [1, 2, \"hello\", 4, \"apple\"]\n",
    "s = 0\n",
    "for item in list:\n",
    "  try:\n",
    "       s += item\n",
    "  except TypeError:\n",
    "      print(s)\n",
    "    \n",
    "    \n",
    "    \n",
    "    "
   ]
  },
  {
   "cell_type": "code",
   "execution_count": 9,
   "id": "fca87fb1-d1f7-4a92-9302-4aa7f3bdcab2",
   "metadata": {},
   "outputs": [
    {
     "name": "stdin",
     "output_type": "stream",
     "text": [
      " nikin\n"
     ]
    },
    {
     "name": "stdout",
     "output_type": "stream",
     "text": [
      "palindrome\n"
     ]
    }
   ],
   "source": [
    "a=input()\n",
    "flag=0\n",
    "for i in range(0,int(len(a)/2)):\n",
    "    if a[i] != a[(i+1)*-1]:\n",
    "        flag=1\n",
    "        break\n",
    "if flag:\n",
    "     print(\"not palindrome\")\n",
    "else:\n",
    "    print(\"palindrome\")\n"
   ]
  },
  {
   "cell_type": "code",
   "execution_count": null,
   "id": "ce01881b-26bb-4ba0-8b4b-cc1eb631db5e",
   "metadata": {},
   "outputs": [],
   "source": []
  },
  {
   "cell_type": "code",
   "execution_count": null,
   "id": "f453394d-c84e-4c47-a10f-fbc854a8f80b",
   "metadata": {},
   "outputs": [],
   "source": []
  }
 ],
 "metadata": {
  "kernelspec": {
   "display_name": "Python 3 (ipykernel)",
   "language": "python",
   "name": "python3"
  },
  "language_info": {
   "codemirror_mode": {
    "name": "ipython",
    "version": 3
   },
   "file_extension": ".py",
   "mimetype": "text/x-python",
   "name": "python",
   "nbconvert_exporter": "python",
   "pygments_lexer": "ipython3",
   "version": "3.12.3"
  }
 },
 "nbformat": 4,
 "nbformat_minor": 5
}
