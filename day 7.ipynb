{
 "cells": [
  {
   "cell_type": "code",
   "execution_count": null,
   "id": "5ae3f425-b7e3-4063-9881-667dbc815f5f",
   "metadata": {},
   "outputs": [],
   "source": [
    "#41 in leetcode\n",
    "var=1\n",
    "nums.sort()\n",
    "for i in nums:\n",
    "if i==var:\n",
    "var=var+1\n",
    "return var"
   ]
  },
  {
   "cell_type": "code",
   "execution_count": 10,
   "id": "ac644395-59d0-472d-a41e-d84c0f0ab85c",
   "metadata": {},
   "outputs": [
    {
     "name": "stdout",
     "output_type": "stream",
     "text": [
      "20\n"
     ]
    }
   ],
   "source": [
    "#find the max sum of any 3  consecutive elements of this array\n",
    "L=[2,4,6,1,3,7,4,6,9,3,8,3,6,4,1,3,9,6]\n",
    "max=0\n",
    "for x in range(0,len(L)-2):\n",
    "    sum=L[x]+L[x+1]+L[x+2]\n",
    "    if(max<sum):\n",
    "      max=sum  \n",
    "\n",
    "print(max)\n",
    "    "
   ]
  },
  {
   "cell_type": "code",
   "execution_count": 23,
   "id": "277fd1ab-47d6-431f-a3d8-aa7c9e982fd7",
   "metadata": {},
   "outputs": [
    {
     "name": "stdin",
     "output_type": "stream",
     "text": [
      "enter the consecutive value : 2\n"
     ]
    },
    {
     "name": "stdout",
     "output_type": "stream",
     "text": [
      "15\n"
     ]
    }
   ],
   "source": [
    "L=[2,4,6,1,3,7,4,6,9,3,8,3,6,4,1,3,9,6]\n",
    "i=int(input(\"enter the consecutive value :\"))\n",
    "max=0\n",
    "for x in range(0,len(L)-i):\n",
    "    sum=0\n",
    "    for y in range(0,i):\n",
    "        sum=sum+L[x+y]\n",
    "    if(max<sum):\n",
    "      max=sum  \n",
    "\n",
    "print(max)\n",
    "    "
   ]
  },
  {
   "cell_type": "code",
   "execution_count": 37,
   "id": "70567ca5-ef33-437f-8b35-89d37a2e2c30",
   "metadata": {},
   "outputs": [
    {
     "name": "stdin",
     "output_type": "stream",
     "text": [
      "enter the consecutive value : 2\n"
     ]
    },
    {
     "name": "stdout",
     "output_type": "stream",
     "text": [
      "15\n"
     ]
    }
   ],
   "source": [
    "L=[2,4,6,1,3,7,4,6,9,3,8,3,6,4,1,3,9,6]\n",
    "i=int(input(\"enter the consecutive value :\"))\n",
    "max=0\n",
    "for x in range(0,len(L)-i):\n",
    "    sum=0\n",
    "    for y in range(0,i):\n",
    "        sum=sum+L[x+y]\n",
    "    if(max<sum):\n",
    "      max=sum  \n",
    "\n",
    "print(max)\n",
    "    "
   ]
  },
  {
   "cell_type": "code",
   "execution_count": 9,
   "id": "e2b5beac-d158-47e0-b322-f7386219b939",
   "metadata": {},
   "outputs": [
    {
     "name": "stdout",
     "output_type": "stream",
     "text": [
      "[1, 1, 2, 3, 3, 3, 3, 4, 4, 4, 6, 6, 6, 6, 7, 8, 9, 9]\n",
      "[9, 9, 8, 7, 6, 6, 6, 6, 4, 4, 4, 3, 3, 3, 3, 2, 1, 1]\n",
      " the bubble Sorted array:\n",
      " [1, 2, 3, 4, 5, 6, 7, 8, 9]\n"
     ]
    }
   ],
   "source": [
    "l=[2,4,6,1,3,7,4,6,9,3,8,3,6,4,1,3,9,6]\n",
    "l.sort()\n",
    "print(l)\n",
    "\n",
    "l.reverse()\n",
    "print(l)\n",
    "\n",
    "\n",
    "l=[3,5,2,6,7,4,8,1,9]\n",
    "arr=len(l)\n",
    "for i in range(arr):\n",
    "    for j in range (0,arr-i-1):\n",
    "        if l[j] > l[j+1]:\n",
    "                l[j], l[j+1] = l[j+1], l[j]\n",
    "print(\" the bubble Sorted array:\\n\",l)"
   ]
  },
  {
   "cell_type": "code",
   "execution_count": 5,
   "id": "486571b1-e399-4dac-ae0c-63d19862ff98",
   "metadata": {},
   "outputs": [
    {
     "name": "stdout",
     "output_type": "stream",
     "text": [
      "sorted elements:\n",
      "\n",
      "1  2  3  4  5  6  7  9  "
     ]
    }
   ],
   "source": [
    "#insertion sort\n",
    "arr=[2,4,1,7,3,9,6,5]\n",
    "\n",
    "n=len (arr)\n",
    "for i in range(0,n):\n",
    "    temp=arr[i]\n",
    "    j = i - 1\n",
    "    while j >= 0 and temp < arr[j]:\n",
    "        arr[j + 1] = arr[j]\n",
    "        j -= 1\n",
    "    arr[j + 1] = temp\n",
    "print(\"sorted elements:\\n\")\n",
    "for i in arr:\n",
    "    print(i,end=\"  \")"
   ]
  },
  {
   "cell_type": "code",
   "execution_count": 7,
   "id": "fdd7fad7-fb84-49a7-8f3a-f8565ea9d712",
   "metadata": {},
   "outputs": [
    {
     "name": "stdout",
     "output_type": "stream",
     "text": [
      "selection sort: [2, 4, 1, 7, 3, 9, 6, 5]\n"
     ]
    }
   ],
   "source": [
    "#selection sort\n",
    "arr=[2,4,1,7,3,9,6,5]\n",
    "\n",
    "for i in range(0,len(arr)):\n",
    "    min_idx=i\n",
    "    for j in range(i+1,len(arr)):\n",
    "        if arr[min_idx]>arr[i]:\n",
    "            min_idx=j\n",
    "    temp=arr[i]\n",
    "    arr[i]=arr[min_idx]\n",
    "    arr[min_idx]=temp\n",
    "\n",
    "print(\"selection sort:\",arr)"
   ]
  },
  {
   "cell_type": "code",
   "execution_count": 6,
   "id": "b99199cc-046c-4a6d-8715-32459bf9236b",
   "metadata": {},
   "outputs": [
    {
     "name": "stdout",
     "output_type": "stream",
     "text": [
      " the bubble Sorted array:\n",
      " [1, 2, 3, 4, 5, 6, 7, 8, 9]\n"
     ]
    }
   ],
   "source": [
    "l=[3,5,2,6,7,4,8,1,9]\n",
    "arr=len(l)\n",
    "for i in range(arr):\n",
    "    for j in range (0,arr-i-1):\n",
    "        if l[j] > l[j+1]:\n",
    "     # l[j], l[j+1] = l[j+1], l[j]\n",
    "            temp=l[j]\n",
    "            l[j]=l[j+1]\n",
    "            l[j+1]=temp\n",
    "\n",
    "print(\" the bubble Sorted array:\\n\",l)"
   ]
  },
  {
   "cell_type": "code",
   "execution_count": null,
   "id": "7846976a-df2d-4319-8da1-fda9ca554148",
   "metadata": {},
   "outputs": [],
   "source": [
    "#binary search\n",
    "l=[91,87,88,98,77,76,65,55,45,47,48,94,34,93,90,92,29,56,23]\n",
    "l.sort()\n",
    "print(l)\n",
    "low=0\n",
    "high=len(l)\n",
    "- "
   ]
  }
 ],
 "metadata": {
  "kernelspec": {
   "display_name": "Python 3 (ipykernel)",
   "language": "python",
   "name": "python3"
  },
  "language_info": {
   "codemirror_mode": {
    "name": "ipython",
    "version": 3
   },
   "file_extension": ".py",
   "mimetype": "text/x-python",
   "name": "python",
   "nbconvert_exporter": "python",
   "pygments_lexer": "ipython3",
   "version": "3.12.3"
  }
 },
 "nbformat": 4,
 "nbformat_minor": 5
}
