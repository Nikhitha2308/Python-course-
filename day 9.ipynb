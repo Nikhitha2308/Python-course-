{
 "cells": [
  {
   "cell_type": "code",
   "execution_count": 3,
   "id": "ef605426-b59d-4b5b-927d-e971ce8deeb9",
   "metadata": {},
   "outputs": [
    {
     "name": "stdin",
     "output_type": "stream",
     "text": [
      " (nimra)\n"
     ]
    },
    {
     "name": "stdout",
     "output_type": "stream",
     "text": [
      "valid string\n"
     ]
    }
   ],
   "source": [
    "s=input()\n",
    "x=y=z=0\n",
    "for c in s:\n",
    "    match (c):\n",
    "        case '(':x+=1\n",
    "        case ')':x-=1\n",
    "        case '{':y+=1\n",
    "        case '}':y-=1\n",
    "        case '[':z+=1\n",
    "        case ']':z-=1\n",
    "        case _:continue\n",
    "if x+y+z==0:\n",
    "    print(\"valid string\")\n",
    "else:\n",
    "    print(\"invalid string\")"
   ]
  },
  {
   "cell_type": "code",
   "execution_count": 1,
   "id": "6ffb44f9-9dd3-4306-877a-b85af06fb383",
   "metadata": {},
   "outputs": [
    {
     "name": "stdout",
     "output_type": "stream",
     "text": [
      "item added to the stack 4\n",
      "item added to the stack 1\n",
      "item added to the stack 2\n",
      "item added to the stack 3\n",
      "[4, 1, 2, 3]\n",
      "item deleted from the list 3\n",
      "[4, 1, 2]\n"
     ]
    }
   ],
   "source": [
    "#stack operations\n",
    "class stack:\n",
    "    def __init__(self):\n",
    "        self.item=[]\n",
    "    def push(self,x):\n",
    "        self.item.append(x)\n",
    "        print(\"item added to the stack\",x)\n",
    "    def pop(self):\n",
    "        items=self.item.pop()\n",
    "        print(\"item deleted from the list\",items)\n",
    "s=stack()\n",
    "s.push(4)\n",
    "s.push(1)\n",
    "s.push(2)\n",
    "s.push(3)\n",
    "print(s.item)\n",
    "s.pop()\n",
    "print(s.item)"
   ]
  },
  {
   "cell_type": "code",
   "execution_count": 37,
   "id": "e1670ce9-93e1-46a3-8900-3a5a350a2d04",
   "metadata": {},
   "outputs": [
    {
     "name": "stdin",
     "output_type": "stream",
     "text": [
      "Enter the element: 345\n"
     ]
    },
    {
     "name": "stdout",
     "output_type": "stream",
     "text": [
      "543"
     ]
    }
   ],
   "source": [
    "a=input(\"Enter the element:\")\n",
    "s=[]\n",
    "for e in a:\n",
    "    s.append(e)\n",
    "\n",
    "while len(s)>0:\n",
    "    print(s.pop(),end=\"\")\n",
    "\n",
    "\n",
    "    "
   ]
  },
  {
   "cell_type": "code",
   "execution_count": 38,
   "id": "2a5cfde0-c034-4a49-b9b8-c8ce3855bf00",
   "metadata": {},
   "outputs": [
    {
     "name": "stdin",
     "output_type": "stream",
     "text": [
      "Enter the element: this is a dash\n"
     ]
    },
    {
     "name": "stdout",
     "output_type": "stream",
     "text": [
      "dash a is this "
     ]
    }
   ],
   "source": [
    "\n",
    "    \n",
    "a=input(\"Enter the element:\")\n",
    "s=[]\n",
    "for e in a.split():\n",
    "    s.append(e)\n",
    "\n",
    "while len(s)>0:\n",
    "    print(s.pop(),end=\" \")"
   ]
  },
  {
   "cell_type": "code",
   "execution_count": 35,
   "id": "40d5e7dd-18c9-4571-aa31-4a5dcf33ee7a",
   "metadata": {},
   "outputs": [
    {
     "name": "stdout",
     "output_type": "stream",
     "text": [
      "[4, 3, 1]\n"
     ]
    }
   ],
   "source": [
    "l=[1,3,4]\n",
    "l.reverse()\n",
    "print(l)"
   ]
  },
  {
   "cell_type": "code",
   "execution_count": 43,
   "id": "eada4568-9354-460d-87c3-33f32e04cfdb",
   "metadata": {},
   "outputs": [
    {
     "name": "stdin",
     "output_type": "stream",
     "text": [
      "Enter the infix expression: a*b+c\n"
     ]
    },
    {
     "name": "stdout",
     "output_type": "stream",
     "text": [
      "Postfix epression is: abc+*\n"
     ]
    }
   ],
   "source": [
    "def prec(e):\n",
    "    if e == '^':\n",
    "        return 3\n",
    "    elif e == '/' or e == '*':\n",
    "        return 2\n",
    "    elif e == '+' or e == '-':\n",
    "        return 1\n",
    "    else:\n",
    "        return -1\n",
    "\n",
    "def ass():\n",
    "    if e == '^':\n",
    "        return 'R'\n",
    "    return 'L'\n",
    "\n",
    "exp=input(\"Enter the infix expression:\")\n",
    "s=[]\n",
    "result=''\n",
    "for e in exp:\n",
    "    if e.isalnum():\n",
    "        result+=e\n",
    "    elif e == '(':\n",
    "        s.append(e)\n",
    "    elif e == ')':\n",
    "        while s[-1] != '(':\n",
    "            result += s.pop()\n",
    "        s.pop()\n",
    "    else:\n",
    "        while s and (prec(e)<prec(-1) or\n",
    "                    (prec(e)==prec(s[-1]) and asoc(e)=='L')):\n",
    "            result +=s.pop()\n",
    "        s.append(e)\n",
    "while s:\n",
    "    result += s.pop()\n",
    "print (\"Postfix epression is:\",result)\n"
   ]
  },
  {
   "cell_type": "code",
   "execution_count": 49,
   "id": "79030bfd-c578-4785-86bd-513fae27a621",
   "metadata": {},
   "outputs": [
    {
     "name": "stdout",
     "output_type": "stream",
     "text": [
      "a* b + c \n"
     ]
    }
   ],
   "source": [
    "def precedence(op):\n",
    "  if op in \"+-\":\n",
    "    return 1\n",
    "  elif op in \"*/\":\n",
    "    return 2\n",
    "  else:\n",
    "    return 0\n",
    "\n",
    "def infix_to_postfix(expression):\n",
    "  stack = []\n",
    "  postfix = \"\"\n",
    "  for char in expression:\n",
    "    if char.isalnum():  # Check if operand (alphanumeric)\n",
    "      postfix += char\n",
    "    elif char == '(':\n",
    "      stack.append(char)\n",
    "    elif char == ')':\n",
    "      while stack and stack[-1] != '(':\n",
    "        postfix += stack.pop()\n",
    "      stack.pop()  # Pop the '('\n",
    "    else:  # Operator\n",
    "      while stack and precedence(stack[-1]) >= precedence(char):\n",
    "\n",
    "                stack.append(char)\n",
    "  while stack:\n",
    "    postfix += stack.pop()\n",
    "  return postfix\n",
    "print(postfix)"
   ]
  },
  {
   "cell_type": "code",
   "execution_count": 47,
   "id": "52dec2be-a496-45f6-b9c0-d7080a01e9fd",
   "metadata": {},
   "outputs": [
    {
     "name": "stdin",
     "output_type": "stream",
     "text": [
      "Enter the infix expression: a+b*c\n"
     ]
    },
    {
     "name": "stdout",
     "output_type": "stream",
     "text": [
      "Postfix epression is: abc*+\n"
     ]
    }
   ],
   "source": [
    "def prec(e):\n",
    "    if e == '^':\n",
    "        return 3\n",
    "    elif e == '/' or e == '*':\n",
    "        return 2\n",
    "    elif e == '+' or e == '-':\n",
    "        return 1\n",
    "    else:\n",
    "        return -1\n",
    "\n",
    "def ass():\n",
    "    if e == '^':\n",
    "        return 'R'\n",
    "    return 'L'\n",
    "\n",
    "exp=input(\"Enter the infix expression:\")\n",
    "s=[]\n",
    "result=''\n",
    "for e in exp:\n",
    "    if e.isalnum():\n",
    "        result+=e\n",
    "    elif e == '(':\n",
    "        s.append(e)\n",
    "    elif e == ')':\n",
    "        while s[-1] != '(':\n",
    "            result += s.pop()\n",
    "        s.pop()\n",
    "    else:\n",
    "        while s and (prec(e)<prec(-1) or\n",
    "                    (prec(e)==prec(s[-1]) and ass(e)=='L')):\n",
    "            result +=s.pop()\n",
    "        s.append(e)\n",
    "while s:\n",
    "    result += s.pop()\n",
    "print (\"Postfix epression is:\",result)"
   ]
  },
  {
   "cell_type": "markdown",
   "id": "27113e32-9cf4-4afd-bd9e-310eb02e58a3",
   "metadata": {},
   "source": [
    "Q: In arcade game, there is a king who got spelled by a witch that whenever he eat he have to take care of what is sequence of his food intake\n",
    "\n",
    "if he eats similar food one after other it will cancel out its effect and total energy will be decreased .\n",
    "your task is to determine the total energy of the king after his meal\n",
    "\n",
    "example:\n",
    "[\"apple\",\"Dal\",\"chapati\",\"rice\",\"rice\",\"apple\",\"apple\",\"dal\",\"rice\",\"Dal\",\"chapati\",\"chapati\"]\n",
    "\n",
    "consider that energy is released by each item is 1 unit \n",
    "\n",
    "so the total energy released by the king will be 6 units \n",
    "\n",
    "write a code to find the energy stored by the king have all the food."
   ]
  },
  {
   "cell_type": "code",
   "execution_count": 72,
   "id": "5721669b-a41e-49c0-997c-e61e6625ff6a",
   "metadata": {},
   "outputs": [
    {
     "name": "stdin",
     "output_type": "stream",
     "text": [
      " a d c a a c r r c a r d \n"
     ]
    },
    {
     "name": "stdout",
     "output_type": "stream",
     "text": [
      "6 ['a', 'd', 'c', 'a', 'r', 'd']\n"
     ]
    }
   ],
   "source": [
    "\n",
    "a=[item for item in input().split()]\n",
    "s=[]\n",
    "for item  in a:\n",
    "    if not s:\n",
    "        s.append(item)\n",
    "    elif s[-1]==item:\n",
    "        s.pop()\n",
    "    else:\n",
    "        s.append(item)\n",
    "\n",
    "print(len(s),s)"
   ]
  },
  {
   "cell_type": "code",
   "execution_count": 44,
   "id": "28f91a74-2282-4010-97eb-6d29631a2ada",
   "metadata": {},
   "outputs": [
    {
     "name": "stdin",
     "output_type": "stream",
     "text": [
      " ()\n"
     ]
    },
    {
     "name": "stdout",
     "output_type": "stream",
     "text": [
      "invalid string\n"
     ]
    }
   ],
   "source": [
    "a=input()\n",
    "s=[]\n",
    "for i in a:\n",
    "    if i==\"(\" or i==\"[\" or i==\"{\":\n",
    "        s.append(i)\n",
    "    elif (i==')'and s[-1]=='(')or (i==']' and s[-1]=='[')or (i=='}' and s[-1]=='{'):\n",
    "            s.pop()\n",
    "    else:\n",
    "        continue\n",
    "if not a:\n",
    "    print(\"valid string\")\n",
    "else:\n",
    "    print(\"invalid string\")"
   ]
  },
  {
   "cell_type": "code",
   "execution_count": null,
   "id": "a9e9a623-c264-421f-9347-d73868c2b061",
   "metadata": {},
   "outputs": [],
   "source": []
  }
 ],
 "metadata": {
  "kernelspec": {
   "display_name": "Python 3 (ipykernel)",
   "language": "python",
   "name": "python3"
  },
  "language_info": {
   "codemirror_mode": {
    "name": "ipython",
    "version": 3
   },
   "file_extension": ".py",
   "mimetype": "text/x-python",
   "name": "python",
   "nbconvert_exporter": "python",
   "pygments_lexer": "ipython3",
   "version": "3.12.3"
  }
 },
 "nbformat": 4,
 "nbformat_minor": 5
}
