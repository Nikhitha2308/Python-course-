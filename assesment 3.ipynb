{
 "cells": [
  {
   "cell_type": "code",
   "execution_count": 2,
   "id": "c59af24b-8955-45ee-97c9-d10b4e0ecaf4",
   "metadata": {},
   "outputs": [
    {
     "name": "stdin",
     "output_type": "stream",
     "text": [
      "enter the celsius 78\n"
     ]
    },
    {
     "name": "stdout",
     "output_type": "stream",
     "text": [
      "78 Celsius is equal to 172.4 Fahrenheit\n"
     ]
    }
   ],
   "source": [
    "#Convert a temperature from Celsius to Fahrenheit.\n",
    "celsius=int(input(\"enter the celsius\")) \n",
    "\n",
    "fahrenheit = (celsius * 9/5) + 32\n",
    "\n",
    "print(f\"{celsius} Celsius is equal to {fahrenheit} Fahrenheit\")\n"
   ]
  },
  {
   "cell_type": "code",
   "execution_count": 9,
   "id": "4f1cb9bf-1496-4944-86d7-41df1222b55d",
   "metadata": {},
   "outputs": [
    {
     "name": "stdout",
     "output_type": "stream",
     "text": [
      "[23, 45, 86, 88, 99]\n",
      "the second largest element is : 88\n"
     ]
    }
   ],
   "source": [
    "#Find the second largest element in a list.\n",
    "list=[45,23,86,99,88]\n",
    "list.sort()\n",
    "print(list)\n",
    "print(\"the second largest element is :\",list[-2])\n",
    "\n",
    "\n"
   ]
  },
  {
   "cell_type": "code",
   "execution_count": 3,
   "id": "707be0c8-9d10-42a9-a050-08c1192a81e5",
   "metadata": {},
   "outputs": [
    {
     "name": "stdin",
     "output_type": "stream",
     "text": [
      "enter the day number: 4\n"
     ]
    },
    {
     "name": "stdout",
     "output_type": "stream",
     "text": [
      "wednesday\n"
     ]
    }
   ],
   "source": [
    "day=int(input(\"enter the day number:\"))\n",
    "match day:\n",
    "    case 1:print(\"sunday\")\n",
    "    case 2:print(\"monday\")\n",
    "    case 3:print(\"tuesday\")\n",
    "    case 4:print(\"wednesday\")\n",
    "    case 5:print(\"thrusday\")\n",
    "    case 6:print(\"friday\")\n",
    "    case 7:print(\"saturday\")\n",
    "        "
   ]
  },
  {
   "cell_type": "code",
   "execution_count": 6,
   "id": "6d21d184-fa6d-404c-941b-bb0fb82d39d0",
   "metadata": {},
   "outputs": [
    {
     "name": "stdin",
     "output_type": "stream",
     "text": [
      " 3\n",
      " 5\n"
     ]
    },
    {
     "name": "stdout",
     "output_type": "stream",
     "text": [
      "8\n"
     ]
    }
   ],
   "source": [
    "def mad(a,b):\n",
    "    c=a+b\n",
    "    print(c)\n",
    "    return \n",
    "A=int(input())\n",
    "B=int(input())\n",
    "mad(A,B)\n"
   ]
  },
  {
   "cell_type": "code",
   "execution_count": 7,
   "id": "ec4898ad-79bc-4b4b-8da3-bde35f88367f",
   "metadata": {},
   "outputs": [
    {
     "name": "stdout",
     "output_type": "stream",
     "text": [
      "nikhitha\n",
      "<class 'str'>\n",
      "5.6\n",
      "<class 'int'>\n"
     ]
    }
   ],
   "source": [
    "a=[1,3,4,\n",
    "   5.6,7,8.999,'nikhitha']\n",
    "print(a[6])\n",
    "print(type(a[6]))\n",
    "print(a[3])\n",
    "print(type(3))\n"
   ]
  },
  {
   "cell_type": "code",
   "execution_count": null,
   "id": "a1038565-2c1b-4c98-80b6-32f4950e26c6",
   "metadata": {},
   "outputs": [],
   "source": []
  }
 ],
 "metadata": {
  "kernelspec": {
   "display_name": "Python 3 (ipykernel)",
   "language": "python",
   "name": "python3"
  },
  "language_info": {
   "codemirror_mode": {
    "name": "ipython",
    "version": 3
   },
   "file_extension": ".py",
   "mimetype": "text/x-python",
   "name": "python",
   "nbconvert_exporter": "python",
   "pygments_lexer": "ipython3",
   "version": "3.12.3"
  }
 },
 "nbformat": 4,
 "nbformat_minor": 5
}
