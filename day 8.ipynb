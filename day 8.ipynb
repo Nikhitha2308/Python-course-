{
 "cells": [
  {
   "cell_type": "code",
   "execution_count": 1,
   "id": "1e203f01-0eb8-4943-886e-bb1e64b1e862",
   "metadata": {},
   "outputs": [
    {
     "name": "stdin",
     "output_type": "stream",
     "text": [
      "Enter a number:  5\n"
     ]
    },
    {
     "name": "stdout",
     "output_type": "stream",
     "text": [
      "The factorial of 5 is 120\n"
     ]
    }
   ],
   "source": [
    "num = int(input(\"Enter a number: \"))    \n",
    "factorial = 1    \n",
    "if num < 0:    \n",
    "   print(\" enter only +ve numbers\") \n",
    "elif num == 0:    \n",
    "   print(\"The factorial of 0 is 1\")    \n",
    "else:    \n",
    "   for i in range(1,num + 1):    \n",
    "       factorial = factorial*i    \n",
    "   print(\"The factorial of\",num,\"is\",factorial)"
   ]
  },
  {
   "cell_type": "code",
   "execution_count": 23,
   "id": "73e0d84d-7206-46a7-8057-eff795f8109e",
   "metadata": {},
   "outputs": [
    {
     "ename": "IndentationError",
     "evalue": "unindent does not match any outer indentation level (<string>, line 7)",
     "output_type": "error",
     "traceback": [
      "\u001b[1;36m  File \u001b[1;32m<string>:7\u001b[1;36m\u001b[0m\n\u001b[1;33m    fact(i)\u001b[0m\n\u001b[1;37m           ^\u001b[0m\n\u001b[1;31mIndentationError\u001b[0m\u001b[1;31m:\u001b[0m unindent does not match any outer indentation level\n"
     ]
    }
   ],
   "source": [
    "num=int(input(\"enter the num:\"))\n",
    "def fact(i):\n",
    "    if i==0:\n",
    "        retrun\n",
    "    for i in range(1,num+1):\n",
    "             f=f*i\n",
    "             fact(i)\n",
    "    return\n",
    "     "
   ]
  },
  {
   "cell_type": "code",
   "execution_count": 31,
   "id": "55e5a9d7-4319-4c6a-b295-6ae533d73ba4",
   "metadata": {},
   "outputs": [
    {
     "ename": "IndentationError",
     "evalue": "unexpected indent (1826510063.py, line 4)",
     "output_type": "error",
     "traceback": [
      "\u001b[1;36m  Cell \u001b[1;32mIn[31], line 4\u001b[1;36m\u001b[0m\n\u001b[1;33m    return i*fact(n-1)\u001b[0m\n\u001b[1;37m    ^\u001b[0m\n\u001b[1;31mIndentationError\u001b[0m\u001b[1;31m:\u001b[0m unexpected indent\n"
     ]
    }
   ],
   "source": [
    "def fact(n):\n",
    "    if n==1:\n",
    "        return 1\n",
    "           return i*fact(n-1) \n"
   ]
  },
  {
   "cell_type": "code",
   "execution_count": 36,
   "id": "e7cc839d-2a47-4501-bb0a-db82638bf35f",
   "metadata": {},
   "outputs": [
    {
     "ename": "IndentationError",
     "evalue": "expected an indented block after 'if' statement on line 2 (1997873654.py, line 3)",
     "output_type": "error",
     "traceback": [
      "\u001b[1;36m  Cell \u001b[1;32mIn[36], line 3\u001b[1;36m\u001b[0m\n\u001b[1;33m    return 0\u001b[0m\n\u001b[1;37m    ^\u001b[0m\n\u001b[1;31mIndentationError\u001b[0m\u001b[1;31m:\u001b[0m expected an indented block after 'if' statement on line 2\n"
     ]
    }
   ],
   "source": [
    "def fib(i):\n",
    "    if i==0:\n",
    "    return 0\n",
    "    else:\n",
    "    return (fib(i-1)+fib(i-2))"
   ]
  },
  {
   "cell_type": "code",
   "execution_count": 10,
   "id": "85c736de-83bc-4340-8c92-8093b9f2f073",
   "metadata": {},
   "outputs": [
    {
     "name": "stdout",
     "output_type": "stream",
     "text": [
      "[5, 7, 2, 4, 8, 1, 9, 6, 3]\n"
     ]
    }
   ],
   "source": [
    "\n",
    "def findpi(ar,high,low):\n",
    "    pe=ar[high]\n",
    "    j=low-1\n",
    "    for i in range(low,high):\n",
    "        if pe>ar[i]:\n",
    "            j+=1\n",
    "            ar[i],ar[j]=ar[j],ar[i]\n",
    "    ar[high],ar[j+1]=ar[j+1],ar[high]\n",
    "    return j+1\n",
    "def quicksort(ar,low,high):\n",
    "    if low<high:\n",
    "        pi=findpi(ar,low,high)\n",
    "        quicksort(ar,low,pi-1)\n",
    "        quicksort(ar,pi+1,high)\n",
    "#main        \n",
    "ar=[3,5,7,2,4,8,1,9,6]\n",
    "quicksort(ar,0,len(ar)-1)\n",
    "print(ar)"
   ]
  },
  {
   "cell_type": "code",
   "execution_count": 11,
   "id": "0381c61c-0c49-4691-bb19-6f299d57d10c",
   "metadata": {},
   "outputs": [
    {
     "name": "stdout",
     "output_type": "stream",
     "text": [
      "[3, 5, 7, 2, 4, 8, 9, 7, 6]\n",
      "6\n",
      "[3, 5, 2, 4, 6, 8, 9, 7, 6]\n",
      "next\n",
      "[3, 5, 2, 4, 6, 8, 9, 7, 6]\n",
      "6\n",
      "[3, 5, 2, 4, 6, 6, 9, 7, 6]\n",
      "next\n",
      "[3, 5, 2, 4, 6, 6, 9, 7, 6]\n",
      "6\n",
      "[3, 5, 2, 4, 6, 6, 6, 7, 6]\n",
      "next\n",
      "[3, 5, 2, 4, 6, 6, 6, 7, 6]\n",
      "6\n",
      "[3, 5, 2, 4, 6, 6, 6, 6, 6]\n",
      "next\n",
      "[3, 5, 2, 4, 6, 6, 6, 6, 6]\n"
     ]
    }
   ],
   "source": [
    " def findpi(arr,low,high):\n",
    "    pe=arr[high]\n",
    "    j=low-1\n",
    "    for i in range(low,high):\n",
    "        if pe>arr[i]:\n",
    "            j+=1\n",
    "            arr[i],arr[j]=arr[j],arr[i]\n",
    "    arr[j+1],arr[j+1]=arr[j+1],arr[high]\n",
    "    return j+1\n",
    "\n",
    "def quicksort(arr,low,high):\n",
    "    if low<high:\n",
    "        print(arr)\n",
    "        pi= findpi(arr,low,high)\n",
    "        print(arr[pi])\n",
    "        print(arr)\n",
    "        print(\"next\")\n",
    "        quicksort(arr,pi+1,high)\n",
    "\n",
    "arr=[3,5,7,2,4,8,9,7,6]\n",
    "\n",
    "quicksort(arr,0,len(arr)-1)\n",
    "\n",
    "print(arr)"
   ]
  },
  {
   "cell_type": "code",
   "execution_count": 6,
   "id": "10f98f24-ad46-4b5e-bf1f-2f23979902fc",
   "metadata": {},
   "outputs": [
    {
     "name": "stdout",
     "output_type": "stream",
     "text": [
      "node 1 <__main__.node object at 0x00000168CB7EC560> 1\n",
      "node 2 <__main__.node object at 0x00000168CB7CCCE0> 2\n",
      "node 3 <__main__.node object at 0x00000168CB7CF5F0> 3\n",
      "node 3 <__main__.node object at 0x00000168CB7CFFE0> 4\n"
     ]
    }
   ],
   "source": [
    "#linked list \n",
    "class node:\n",
    "    def __init__(self,value):\n",
    "        self.data=value\n",
    "        self.next=None\n",
    "\n",
    "head =node(1)\n",
    "head.next=node(2)\n",
    "head.next.next=node(3)\n",
    "head.next.next.next=node(4)\n",
    "\n",
    "print(\"node 1\",head,head.data)\n",
    "print(\"node 2\",head.next,head.next.data)\n",
    "print(\"node 3\",head.next.next,head.next.next.data)\n",
    "print(\"node 3\",head.next.next.next,head.next.next.next.data)\n",
    "\n"
   ]
  },
  {
   "cell_type": "markdown",
   "id": "aa4952cf-f248-4e41-8bc5-3c134a4bffb4",
   "metadata": {},
   "source": []
  }
 ],
 "metadata": {
  "kernelspec": {
   "display_name": "Python 3 (ipykernel)",
   "language": "python",
   "name": "python3"
  },
  "language_info": {
   "codemirror_mode": {
    "name": "ipython",
    "version": 3
   },
   "file_extension": ".py",
   "mimetype": "text/x-python",
   "name": "python",
   "nbconvert_exporter": "python",
   "pygments_lexer": "ipython3",
   "version": "3.12.3"
  }
 },
 "nbformat": 4,
 "nbformat_minor": 5
}
