{
 "cells": [
  {
   "cell_type": "code",
   "execution_count": 1,
   "id": "acb0a56e-466f-4903-aeed-8dba01b3650c",
   "metadata": {},
   "outputs": [
    {
     "name": "stdout",
     "output_type": "stream",
     "text": [
      "file dosen't exist\n"
     ]
    }
   ],
   "source": [
    "import os\n",
    "try:\n",
    "    with open(\"sample.txt\",'r') as F:\n",
    "        pass\n",
    "except FileNotFoundError:\n",
    "    print(\"file dosen't exist\")"
   ]
  },
  {
   "cell_type": "code",
   "execution_count": 3,
   "id": "469e8e3b-d13b-4fe5-a7bf-a1e5f4cea029",
   "metadata": {},
   "outputs": [
    {
     "name": "stdout",
     "output_type": "stream",
     "text": [
      "\n"
     ]
    }
   ],
   "source": [
    "import os\n",
    "try:\n",
    "    with open(\"sample.txt\",'r') as F:\n",
    "        a=F.read()\n",
    "        print()\n",
    "except FileNotFoundError:\n",
    "    print(\"file dosen't exist\")"
   ]
  },
  {
   "cell_type": "code",
   "execution_count": null,
   "id": "b22033e8-539f-4be8-a30a-d49ddd26877e",
   "metadata": {},
   "outputs": [],
   "source": [
    "import os\n",
    "try:\n",
    "    with open(\"sample.txt\",'r+') as F:\n",
    "        a=F.read()\n",
    "        print(a)\n",
    "        print(guava)\n",
    "except FileNotFoundError:\n",
    "    print(\"file dosen't exist\")"
   ]
  },
  {
   "cell_type": "markdown",
   "id": "05a4715f-cb74-4a5a-b98c-55850419fc48",
   "metadata": {},
   "source": [
    "----->classes"
   ]
  },
  {
   "cell_type": "code",
   "execution_count": 4,
   "id": "9c540250-76d1-4bc6-b6fa-9260716accd6",
   "metadata": {},
   "outputs": [
    {
     "name": "stdout",
     "output_type": "stream",
     "text": [
      "this is a laptop of an acer company having i5 processror\n"
     ]
    }
   ],
   "source": [
    "class laptop:\n",
    "    def config(self):\n",
    "        print(\"this is a laptop of an acer company having i5 processror\")\n",
    "\n",
    "hp=laptop()\n",
    "hp.config()\n"
   ]
  },
  {
   "cell_type": "markdown",
   "id": "c367ea8a-2367-4539-80d8-f9f53213ef82",
   "metadata": {},
   "source": [
    "create a laptop class\n",
    "with variable as processor,ram and storage\n",
    "\n",
    "create function to print the configuration of the laptops \n",
    "create 3 objects of laptops with different brand and display its configuration"
   ]
  },
  {
   "cell_type": "code",
   "execution_count": 21,
   "id": "0621af84-8839-4579-b5ab-592c10752694",
   "metadata": {},
   "outputs": [
    {
     "name": "stdout",
     "output_type": "stream",
     "text": [
      "the processor is  i5\n",
      "ram is  six-gb\n",
      "storage is one_tb\n"
     ]
    }
   ],
   "source": [
    "class laptop:\n",
    "    p=\"i5\"\n",
    "    ram=\"six-gb\"\n",
    "    storage=\"one_tb\"\n",
    "    def config(self):\n",
    "       # print(\"the laptop has processor,ram and storage\")\n",
    "         print(\"the processor is \",lenovo.p)\n",
    "         print(\"ram is \",lenovo.ram)\n",
    "         print(\"storage is\",lenovo.storage)\n",
    "    \n",
    "lenovo=laptop()\n",
    "#dell=laptop()\n",
    "#acer=laptop()\n",
    "\n",
    "lenovo.config()\n",
    "#dell.config()\n",
    "#acer.config()\n",
    "\n",
    "#print(\"the processor is \",lenovo.p)\n",
    "#print(\"ram is \",lenovo.ram)\n",
    "#print(\"storage is\",lenovo.storage)"
   ]
  },
  {
   "cell_type": "markdown",
   "id": "b54adff3-a0f2-4aa2-8194-3d1dbb87ecf8",
   "metadata": {},
   "source": [
    "create a class students which can hold the marks in 5 subs and also create a functions to print the marks and calculate the avg of 5 subs"
   ]
  },
  {
   "cell_type": "code",
   "execution_count": 17,
   "id": "0734ece8-3bf2-4674-bd7f-157b191f03de",
   "metadata": {},
   "outputs": [
    {
     "name": "stdout",
     "output_type": "stream",
     "text": [
      "average 67.8\n"
     ]
    }
   ],
   "source": [
    "class student:\n",
    "    def __init__(self,m,e,c,d,k):\n",
    "         self.math=m\n",
    "         self.eng=e\n",
    "         self.computer=c\n",
    "         self.drawing=d\n",
    "         self.kan=k\n",
    "\n",
    "    def avg(self):\n",
    "        n=self.math+self.eng+self.computer+self.drawing+self.kan\n",
    "        avg=n/5\n",
    "        print(\"average\",avg)\n",
    "\n",
    "if __name__==\"__main__\":\n",
    "    nik=student(89,45,80,90,35)\n",
    "nik.avg()\n"
   ]
  },
  {
   "cell_type": "code",
   "execution_count": 20,
   "id": "7048d0d1-e212-4666-9688-0d306e8e32b6",
   "metadata": {},
   "outputs": [
    {
     "name": "stdin",
     "output_type": "stream",
     "text": [
      "enter the marks: 99\n",
      "enter the marks: 90\n",
      "enter the marks: 80\n",
      "enter the marks: 88\n",
      "enter the marks: 83\n"
     ]
    },
    {
     "name": "stdout",
     "output_type": "stream",
     "text": [
      "average 88.0\n"
     ]
    }
   ],
   "source": [
    "class student:\n",
    "    def __init__(self,m,e,c,d,k):\n",
    "         self.math=m\n",
    "         self.eng=e\n",
    "         self.computer=c\n",
    "         self.drawing=d\n",
    "         self.kan=k\n",
    "\n",
    "    def avg(self):\n",
    "        n=self.math+self.eng+self.computer+self.drawing+self.kan\n",
    "        avg=n/5\n",
    "        print(\"average\",avg)\n",
    "\n",
    "if __name__==\"__main__\":\n",
    "    sub1=int(input(\"enter the marks:\"))\n",
    "    sub2=int(input(\"enter the marks:\"))\n",
    "    sub3=int(input(\"enter the marks:\"))\n",
    "    sub4=int(input(\"enter the marks:\"))\n",
    "    sub5=int(input(\"enter the marks:\"))\n",
    "    nik=student(sub1,sub2,sub3,sub4,sub5)\n",
    "    nik.avg()\n",
    "    \n",
    "    \n",
    "\n"
   ]
  },
  {
   "cell_type": "code",
   "execution_count": 25,
   "id": "64af9c43-5c96-440e-8615-a5eb4a35fa75",
   "metadata": {},
   "outputs": [
    {
     "name": "stdout",
     "output_type": "stream",
     "text": [
      "1\n",
      "2\n"
     ]
    },
    {
     "ename": "AttributeError",
     "evalue": "'demo' object has no attribute 'output_z'",
     "output_type": "error",
     "traceback": [
      "\u001b[1;31m---------------------------------------------------------------------------\u001b[0m",
      "\u001b[1;31mAttributeError\u001b[0m                            Traceback (most recent call last)",
      "Cell \u001b[1;32mIn[25], line 15\u001b[0m\n\u001b[0;32m     13\u001b[0m ob1\u001b[38;5;241m.\u001b[39moutput_x ()\n\u001b[0;32m     14\u001b[0m ob1\u001b[38;5;241m.\u001b[39moutput_y ()\n\u001b[1;32m---> 15\u001b[0m \u001b[43mob1\u001b[49m\u001b[38;5;241;43m.\u001b[39;49m\u001b[43moutput_z\u001b[49m ()\n",
      "\u001b[1;31mAttributeError\u001b[0m: 'demo' object has no attribute 'output_z'"
     ]
    }
   ],
   "source": [
    "class demo:\n",
    "    def __init__(self,a,b,c):\n",
    "        self.x=a\n",
    "        self._y=b\n",
    "        self.__z=c\n",
    "    def output__z(self):\n",
    "        print(self.__z)\n",
    "    def output_y(self):\n",
    "        print(self._y)\n",
    "    def output_x(self):\n",
    "        print(self.x)\n",
    "ob1=demo(1,2,3)\n",
    "ob1.output_x ()\n",
    "ob1.output_y ()\n",
    "ob1.output_z ()"
   ]
  },
  {
   "cell_type": "code",
   "execution_count": 33,
   "id": "954ec291-5b41-40fb-a235-01fb6b14704f",
   "metadata": {},
   "outputs": [
    {
     "name": "stdout",
     "output_type": "stream",
     "text": [
      "this is func1\n",
      "this is func2\n",
      "this is func3\n",
      "this is func4\n",
      "this is func4\n"
     ]
    }
   ],
   "source": [
    "class a:\n",
    "    def func1(self):\n",
    "        print(\"this is func1\")\n",
    "    def func2(self):\n",
    "        print(\"this is func2\")\n",
    "\n",
    "\n",
    "class b(a):\n",
    "    def func3(self):\n",
    "        print(\"this is func3\")\n",
    "    def func4(self):\n",
    "        print(\"this is func4\")\n",
    "\n",
    "class c(a):\n",
    "    def func5(self):\n",
    "        print(\"this is func3\")\n",
    "    def func6(self):\n",
    "        print(\"this is func4\")\n",
    "if __name__==\"__main__\":\n",
    "    ob1=a()\n",
    "    ob2=b()\n",
    "    ob3=b()\n",
    "\n",
    "    ob1.func1()\n",
    "    ob1.func2()\n",
    "    ob2.func3()\n",
    "    ob2.func4()\n",
    "    ob3.func4()\n",
    "\n",
    "            "
   ]
  },
  {
   "cell_type": "code",
   "execution_count": 15,
   "id": "bf202a7f-3f02-4066-ae26-17f2127d4d55",
   "metadata": {},
   "outputs": [
    {
     "name": "stdout",
     "output_type": "stream",
     "text": [
      "configuration of the laptop is: \n",
      "processor i5\n",
      "ram 8\n",
      "storage 600\n"
     ]
    }
   ],
   "source": [
    "class laptop:\n",
    "    def __init__(self,p,r,s):\n",
    "         self.processor=p\n",
    "         self.ram=r\n",
    "         self.storage=s\n",
    "\n",
    "    def config(self):\n",
    "         print(\"configuration of the laptop is: \")\n",
    "         print(\"processor\",self.processor)\n",
    "         print(\"ram\",self.ram)\n",
    "         print(\"storage\",self.storage)\n",
    "\n",
    "if __name__==\"__main__\":\n",
    "   hp=laptop(\"i5\",8,600)\n",
    "   hp.config()\n",
    "    "
   ]
  },
  {
   "cell_type": "code",
   "execution_count": 52,
   "id": "70a187f9-e89b-4996-85ac-dce2a4c768fc",
   "metadata": {},
   "outputs": [
    {
     "name": "stdout",
     "output_type": "stream",
     "text": [
      "peofessional laptop having  i6 8 512 6 hrs\n",
      "gaming laptop having  8 512 2 i5\n"
     ]
    }
   ],
   "source": [
    "class laptop:\n",
    "    def __init__(self,p,r,s):\n",
    "         self.processor=p\n",
    "         self.ram=r\n",
    "         self.storage=s\n",
    "        \n",
    "    #def config(self):\n",
    "         #print(\"configuration of the laptop is: \")\n",
    "         #print(\"processor\",self.processor)\n",
    "         #pint(\"ram\",self.ram)\n",
    "         #print(\"storage\",self.storage)\n",
    "\n",
    "class prolaptop(laptop):\n",
    "      def __init__(self,battery,p,r,s):\n",
    "          self.b=battery\n",
    "          super().__init__(p,r,s)\n",
    "          #print(\"battery\",self.battery_backup)\n",
    "\n",
    "class glaptop(laptop):\n",
    "      def __init__(self,graphic_card,p,r,s):\n",
    "          self.g=graphic_card\n",
    "          super().__init__(p,r,s)\n",
    "         # print(\"graphics\",self.graphic_card)\n",
    "\n",
    "\n",
    "pro1=prolaptop(\"6 hrs\",\"i6\",8,512)\n",
    "gam1=glaptop(\"i5\",8,512,2)\n",
    "print(\"peofessional laptop having \",pro1.processor,pro1.ram,pro1.storage,pro1.b)\n",
    "print(\"gaming laptop having \",gam1.processor,gam1.ram,gam1.storage,gam1.g)\n",
    "    \n"
   ]
  },
  {
   "cell_type": "markdown",
   "id": "455a0136-2884-4d2a-99c9-fbdcc1f63a89",
   "metadata": {},
   "source": [
    "\n",
    "Write a Program to demonstrate the working of a railway ticket booking.\n",
    "Create required classes like\n",
    "ticket class | general ticket | sleeper ticket | AC ticket | first class ticket.\n",
    "show the uses of inheritance in this and create a proper ticket booking model for Indian railway.\n",
    "After booking the ticket you have to Show the Final Ticket price to the customer.\n",
    "consider only 3 Source and destination as A 500kms | B 600kms | C 400kms\n",
    "Booking charges: 50 | Distance Charges: 2/km |\n",
    "Sleeper Charges: 2/km | AC charges: 4/km | first class charges: 5/km"
   ]
  },
  {
   "cell_type": "code",
   "execution_count": 59,
   "id": "fdd10fda-e84d-49e7-aea2-931dd39fe097",
   "metadata": {},
   "outputs": [
    {
     "ename": "SyntaxError",
     "evalue": "incomplete input (3681322920.py, line 33)",
     "output_type": "error",
     "traceback": [
      "\u001b[1;36m  Cell \u001b[1;32mIn[59], line 33\u001b[1;36m\u001b[0m\n\u001b[1;33m    \u001b[0m\n\u001b[1;37m    ^\u001b[0m\n\u001b[1;31mSyntaxError\u001b[0m\u001b[1;31m:\u001b[0m incomplete input\n"
     ]
    }
   ],
   "source": [
    "class ticket:\n",
    "    def __init__(self,dist):\n",
    "        self.dist=d\n",
    "        \n",
    "\n",
    "\n",
    "class genral(ticket): \n",
    "    pass\n",
    "    def __init__(self,dist):\n",
    "        super().__init__(d)\n",
    "    def Print_ticket(self):\n",
    "        self.farePrices=50+(self.d*2)\n",
    "       return self.farePrice\n",
    "\n",
    "\n",
    "\n",
    "class sleeper(general):\n",
    "    pass\n",
    "    def __init__(self,dist):\n",
    "        super().__init__(d)\n",
    "    def print_ticket(self)\n",
    "        \n",
    "\n",
    "class ac(ticket):\n",
    "    pass\n",
    "    def __init__(self,dist):\n",
    "         self.extra=e2\n",
    "         super().__init__(d,e2)\n",
    "       \n",
    "\n",
    "\n",
    "class first(ticket):\n",
    "    pass\n",
    "    def __init__(self,dist):\n",
    "        self.extra=e3\n",
    "        super().__init__(d,e3)\n",
    "\n",
    "print(\"1.500\\n 2.600\\n 3.400\\n\")\n",
    "k=int(input(\"enter your destinated kms:\")\n",
    "        "
   ]
  },
  {
   "cell_type": "code",
   "execution_count": null,
   "id": "57d0970e-b86b-4fba-9d06-f370439a0f0a",
   "metadata": {},
   "outputs": [],
   "source": []
  }
 ],
 "metadata": {
  "kernelspec": {
   "display_name": "Python 3 (ipykernel)",
   "language": "python",
   "name": "python3"
  },
  "language_info": {
   "codemirror_mode": {
    "name": "ipython",
    "version": 3
   },
   "file_extension": ".py",
   "mimetype": "text/x-python",
   "name": "python",
   "nbconvert_exporter": "python",
   "pygments_lexer": "ipython3",
   "version": "3.12.3"
  }
 },
 "nbformat": 4,
 "nbformat_minor": 5
}
