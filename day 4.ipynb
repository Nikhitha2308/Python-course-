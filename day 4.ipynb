{
 "cells": [
  {
   "cell_type": "code",
   "execution_count": null,
   "id": "d721aefe-7ef9-4117-875f-bba487b8588f",
   "metadata": {},
   "outputs": [],
   "source": [
    "if_name=='_main_\":\n",
    "filename=\"example.txt\"\n",
    "new_filename=\"new_example.txt\"\n",
    "\n",
    "create_file(filename)\n",
    "read_file(filename)\n",
    "append-file(filename,\"this is additional text.\\n\")\n",
    "read_file(filename)\n",
    "rename_file(filename,new_filename)\n",
    "read_file(new_filename)\n",
    "           \n"
   ]
  },
  {
   "cell_type": "code",
   "execution_count": 28,
   "id": "11d5536c-cc8d-44b0-b7fd-2ee602a59a22",
   "metadata": {},
   "outputs": [],
   "source": [
    "import os\n",
    "with open(\"file1.txt\",'w') as f:\n",
    "    f.write(\"this is the first text in file\")\n",
    "    f.close()\n",
    "\n"
   ]
  },
  {
   "cell_type": "code",
   "execution_count": 24,
   "id": "eef8d018-63c1-4bb9-b934-74773d5ff56c",
   "metadata": {},
   "outputs": [],
   "source": [
    "import os\n",
    "os.remove(\"file1.txt\")\n"
   ]
  },
  {
   "cell_type": "code",
   "execution_count": 32,
   "id": "3d9e6a06-9482-4a08-8cf9-d4189cda1d34",
   "metadata": {},
   "outputs": [],
   "source": [
    "#append\n",
    "import os\n",
    "with open(\"file1.txt\",'a') as f:\n",
    "    f.write(\"this is the second text in file \")\n",
    "    f.close()"
   ]
  },
  {
   "cell_type": "code",
   "execution_count": 33,
   "id": "98e8c888-6311-425f-af23-8638af6053a4",
   "metadata": {},
   "outputs": [],
   "source": [
    "import os\n",
    "with open(\"file1.txt\",'a') as f:\n",
    "    f.write(\"  helloooo y'all   \")\n",
    "    f.close()"
   ]
  },
  {
   "cell_type": "code",
   "execution_count": 35,
   "id": "4746758f-38b2-42e5-a059-b2b9c5dc1fff",
   "metadata": {},
   "outputs": [
    {
     "name": "stdout",
     "output_type": "stream",
     "text": [
      "this is the first text in filethis is the second text in filehelloooo y'all   this is the second text in file    helloooo y'all   \n",
      "nik\n"
     ]
    }
   ],
   "source": [
    "import os\n",
    "with open(\"file1.txt\",'r') as f:\n",
    "   for a in f.read().split(\"\\n\"):\n",
    "    print(a)\n",
    "    print(\"nik\")\n",
    "\n",
    "f.close()\n",
    "    \n"
   ]
  },
  {
   "cell_type": "code",
   "execution_count": 36,
   "id": "a2374e34-488c-4b2a-b7d2-2ae7dc4158fa",
   "metadata": {},
   "outputs": [],
   "source": [
    "import os\n",
    "with open(\"file2.txt\",'w') as f:\n",
    "    f.write(\"this is the first text in file,ediot\")\n",
    "    f.close()"
   ]
  },
  {
   "cell_type": "code",
   "execution_count": 41,
   "id": "cfff1672-df3f-422b-ab71-79f0dd4013fb",
   "metadata": {},
   "outputs": [
    {
     "ename": "FileNotFoundError",
     "evalue": "[Errno 2] No such file or directory: 'file1'",
     "output_type": "error",
     "traceback": [
      "\u001b[1;31m---------------------------------------------------------------------------\u001b[0m",
      "\u001b[1;31mFileNotFoundError\u001b[0m                         Traceback (most recent call last)",
      "Cell \u001b[1;32mIn[41], line 2\u001b[0m\n\u001b[0;32m      1\u001b[0m \u001b[38;5;28;01mimport\u001b[39;00m \u001b[38;5;21;01mos\u001b[39;00m\n\u001b[1;32m----> 2\u001b[0m f\u001b[38;5;241m=\u001b[39m\u001b[38;5;28;43mopen\u001b[39;49m\u001b[43m(\u001b[49m\u001b[38;5;124;43m\"\u001b[39;49m\u001b[38;5;124;43mfile1\u001b[39;49m\u001b[38;5;124;43m\"\u001b[39;49m\u001b[43m,\u001b[49m\u001b[38;5;124;43m'\u001b[39;49m\u001b[38;5;124;43mr\u001b[39;49m\u001b[38;5;124;43m'\u001b[39;49m\u001b[43m)\u001b[49m\n\u001b[0;32m      3\u001b[0m \u001b[38;5;28mprint\u001b[39m(f\u001b[38;5;241m.\u001b[39mread())\n",
      "File \u001b[1;32m~\\AppData\\Local\\Programs\\Python\\Python312\\Lib\\site-packages\\IPython\\core\\interactiveshell.py:324\u001b[0m, in \u001b[0;36m_modified_open\u001b[1;34m(file, *args, **kwargs)\u001b[0m\n\u001b[0;32m    317\u001b[0m \u001b[38;5;28;01mif\u001b[39;00m file \u001b[38;5;129;01min\u001b[39;00m {\u001b[38;5;241m0\u001b[39m, \u001b[38;5;241m1\u001b[39m, \u001b[38;5;241m2\u001b[39m}:\n\u001b[0;32m    318\u001b[0m     \u001b[38;5;28;01mraise\u001b[39;00m \u001b[38;5;167;01mValueError\u001b[39;00m(\n\u001b[0;32m    319\u001b[0m         \u001b[38;5;124mf\u001b[39m\u001b[38;5;124m\"\u001b[39m\u001b[38;5;124mIPython won\u001b[39m\u001b[38;5;124m'\u001b[39m\u001b[38;5;124mt let you open fd=\u001b[39m\u001b[38;5;132;01m{\u001b[39;00mfile\u001b[38;5;132;01m}\u001b[39;00m\u001b[38;5;124m by default \u001b[39m\u001b[38;5;124m\"\u001b[39m\n\u001b[0;32m    320\u001b[0m         \u001b[38;5;124m\"\u001b[39m\u001b[38;5;124mas it is likely to crash IPython. If you know what you are doing, \u001b[39m\u001b[38;5;124m\"\u001b[39m\n\u001b[0;32m    321\u001b[0m         \u001b[38;5;124m\"\u001b[39m\u001b[38;5;124myou can use builtins\u001b[39m\u001b[38;5;124m'\u001b[39m\u001b[38;5;124m open.\u001b[39m\u001b[38;5;124m\"\u001b[39m\n\u001b[0;32m    322\u001b[0m     )\n\u001b[1;32m--> 324\u001b[0m \u001b[38;5;28;01mreturn\u001b[39;00m \u001b[43mio_open\u001b[49m\u001b[43m(\u001b[49m\u001b[43mfile\u001b[49m\u001b[43m,\u001b[49m\u001b[43m \u001b[49m\u001b[38;5;241;43m*\u001b[39;49m\u001b[43margs\u001b[49m\u001b[43m,\u001b[49m\u001b[43m \u001b[49m\u001b[38;5;241;43m*\u001b[39;49m\u001b[38;5;241;43m*\u001b[39;49m\u001b[43mkwargs\u001b[49m\u001b[43m)\u001b[49m\n",
      "\u001b[1;31mFileNotFoundError\u001b[0m: [Errno 2] No such file or directory: 'file1'"
     ]
    }
   ],
   "source": [
    "import os\n",
    "f=open(\"file1\",'r')\n",
    "print(f.read())"
   ]
  },
  {
   "cell_type": "markdown",
   "id": "96156b17-e250-4530-9844-d00b4aa9fc81",
   "metadata": {},
   "source": [
    "Create a file Named as Fruit name\n",
    "and Add the fruit names by taking input from the user.\n",
    "\n",
    "after that replace a fruit name with other fruit name entered by the user.\n",
    "\n",
    "for example:\n",
    "\n",
    "file have \n",
    "Apple\n",
    "Banana\n",
    "Mango\n",
    "Grapes\n",
    "\n",
    "now replace Banana with watermelon\n",
    " \n",
    "\n",
    "    "
   ]
  },
  {
   "cell_type": "code",
   "execution_count": 28,
   "id": "bf4fe48b-91a8-4788-9bb9-882b9e8db7bb",
   "metadata": {},
   "outputs": [
    {
     "name": "stdin",
     "output_type": "stream",
     "text": [
      "enter the fruit name: apple\n",
      "enter the fruit name: mango\n",
      "enter the fruit name: banana\n",
      "enter the fruit name: grapes\n"
     ]
    },
    {
     "name": "stdout",
     "output_type": "stream",
     "text": [
      "apple\n",
      "mango\n",
      "banana\n",
      "grapes\n",
      "\n",
      "apple\n",
      "orange\n",
      "banana\n",
      "grapes\n",
      "\n"
     ]
    }
   ],
   "source": [
    "import os\n",
    "with open(\"fruit name\",'w') as f:\n",
    "    for fruit in range(0,5):\n",
    "         f.write(input(\"enter the fruit name:\"))\n",
    "         f.write(\"\\n\")\n",
    "with open(\"fruit name\",'r') as f:\n",
    "  b=f.read()\n",
    "  print(b)\n",
    "  replaced=b.replace('mango','orange')\n",
    "    a=b.replace('')\n",
    "  print(replaced)\n",
    "f.close()"
   ]
  },
  {
   "cell_type": "code",
   "execution_count": 19,
   "id": "f1b27b12-4914-4b9b-98c3-93272333e3a0",
   "metadata": {},
   "outputs": [],
   "source": [
    "import os\n",
    "with open(\"fruit name\",'r') as f:\n",
    "      b=f.read()\n",
    "      replaced=b.replace('mango','orange')\n",
    "f.close()"
   ]
  },
  {
   "cell_type": "code",
   "execution_count": null,
   "id": "66bb3bb8-2b7f-4d26-90e5-15fdfccbf460",
   "metadata": {},
   "outputs": [],
   "source": []
  },
  {
   "cell_type": "code",
   "execution_count": null,
   "id": "279ad518-b947-4c25-a307-97f214d580bb",
   "metadata": {},
   "outputs": [],
   "source": []
  }
 ],
 "metadata": {
  "kernelspec": {
   "display_name": "Python 3 (ipykernel)",
   "language": "python",
   "name": "python3"
  },
  "language_info": {
   "codemirror_mode": {
    "name": "ipython",
    "version": 3
   },
   "file_extension": ".py",
   "mimetype": "text/x-python",
   "name": "python",
   "nbconvert_exporter": "python",
   "pygments_lexer": "ipython3",
   "version": "3.12.3"
  }
 },
 "nbformat": 4,
 "nbformat_minor": 5
}
